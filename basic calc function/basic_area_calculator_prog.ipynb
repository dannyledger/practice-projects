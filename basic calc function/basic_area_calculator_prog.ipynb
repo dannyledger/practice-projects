{
 "cells": [
  {
   "cell_type": "markdown",
   "id": "a8d0192b",
   "metadata": {},
   "source": [
    "Running this in the notebook request a value for length and width and provide the area value."
   ]
  },
  {
   "cell_type": "code",
   "execution_count": null,
   "id": "1d837360",
   "metadata": {},
   "outputs": [
    {
     "name": "stdout",
     "output_type": "stream",
     "text": [
      "The area of the rectangle is: 8.0\n"
     ]
    }
   ],
   "source": [
    "length = float(input(\"Enter the length of the rectangle: \"))\n",
    "width = float(input(\"Enter the width of the rectangle: \"))\n",
    "\n",
    "def rectangle_area(length, width):\n",
    "    return length * width\n",
    "\n",
    "print(\"The area of the rectangle is:\", rectangle_area(length, width)) "
   ]
  },
  {
   "cell_type": "markdown",
   "id": "55adc9e9",
   "metadata": {},
   "source": [
    "The below overwrites a text file with the updated file. "
   ]
  },
  {
   "cell_type": "code",
   "execution_count": 13,
   "id": "1cac39bb",
   "metadata": {},
   "outputs": [],
   "source": [
    "with open('basiccalcs_result.txt', 'w') as file:\n",
    "    file.write(str(rectangle_area(length, width)))"
   ]
  }
 ],
 "metadata": {
  "kernelspec": {
   "display_name": ".venv",
   "language": "python",
   "name": "python3"
  },
  "language_info": {
   "codemirror_mode": {
    "name": "ipython",
    "version": 3
   },
   "file_extension": ".py",
   "mimetype": "text/x-python",
   "name": "python",
   "nbconvert_exporter": "python",
   "pygments_lexer": "ipython3",
   "version": "3.13.3"
  }
 },
 "nbformat": 4,
 "nbformat_minor": 5
}
