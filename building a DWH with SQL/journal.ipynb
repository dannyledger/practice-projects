{
 "cell_type": "markdown",
 "id": "8f85f446",
 "metadata": {},
 "source": [
  "### Selecting a data management paradigm / using the _'Medallion'_ architecture\n",
  "\n",
  "The course recommends following the Medallion structure initially, as it focuses my learning on the various layers we may incur when constructing a data warehouse. These layers are evaluated further down in these notes.\n",
  "\n",
  "<br>\n",
  "\n",
  "![data architecture figure 1 image](img/journal_fig1.png)\n",
  "\n",
  "<br>\n",
  "\n",
  "| | Bronze Layer | Silver Layer | Gold Layer |\n",
  "| - | - | - | - |\n",
  "| **Definition** | Raw, unprocessed data as-is from sources | Clean and standardised data | Business-ready data | \n",
  "| **Objective** | Traceability & debugging | (Intermediate layer) Prepare data for analysis | Provide data to be consumed for reporting & analytics |\n",
  "| **Object Type** | Tables | Tables | Views |\n",
  "| **Load Method** | Full load (truncate & insert) | Full load (truncate & insert) | None |\n",
  "| **Data Transformation** | None (as-is) | Data cleaning, standardisation, normalisation, enrichment & derived columns | Data integration, aggregation, business logic & rules |\n",
  "| **Data Modeling** | None (as-is) | None (as-is) | Start schema, aggregated objects, flat tables |\n",
  "| **Target Audience** | Data engineers | Data engineers & analysts | Data analysts & business users |  \n",
  "\n",
  "<br>\n"
 ]
}
